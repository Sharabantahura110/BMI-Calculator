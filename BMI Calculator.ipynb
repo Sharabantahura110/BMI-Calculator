{
 "cells": [
  {
   "cell_type": "code",
   "execution_count": 14,
   "id": "e4bdb84d",
   "metadata": {},
   "outputs": [
    {
     "name": "stdout",
     "output_type": "stream",
     "text": [
      "Hi! Please enter you name: sruti\n",
      "Enter your weight in pounds: 170\n",
      "Enter your height in inches: 69\n",
      "25.101869355177485\n",
      "you are overweight.\n"
     ]
    }
   ],
   "source": [
    "name = input(\"Hi! Please enter you name: \")\n",
    "\n",
    "weight = int(input(\"Enter your weight in pounds: \"))\n",
    "\n",
    "height = int(input(\"Enter your height in inches: \"))\n",
    "\n",
    "BMI_calculation = (weight * 703) / (height * height)\n",
    "\n",
    "print(BMI_calculation)\n",
    "\n",
    "\n",
    "if BMI_calculation > 0:\n",
    "    if(0 < BMI_calculation < 18.5):\n",
    "        print(\"you are underweight.\")\n",
    "    \n",
    "    elif (18.5 < BMI_calculation <= 24.9):\n",
    "        print(\"you are normalweight.\")\n",
    "\n",
    "    elif (24.9 < BMI_calculation <= 29.9):\n",
    "        print(\"you are overweight.\")\n",
    "\n",
    "    elif (29.9 < BMI_calculation <= 34.9):\n",
    "        print(\"you are obese.\")\n",
    "\n",
    "    elif (34.9< BMI_calculation <= 39.9):\n",
    "        print(\"you are severly obese.\")\n",
    "    \n",
    "    else:\n",
    "        print (\"you are morbidly obese.\")\n",
    "else:\n",
    "    print(\"Enter valid input\")\n",
    "\n",
    "    \n",
    "    \n",
    "  "
   ]
  },
  {
   "cell_type": "code",
   "execution_count": null,
   "id": "ecffc8f2",
   "metadata": {},
   "outputs": [],
   "source": []
  }
 ],
 "metadata": {
  "kernelspec": {
   "display_name": "Python 3 (ipykernel)",
   "language": "python",
   "name": "python3"
  },
  "language_info": {
   "codemirror_mode": {
    "name": "ipython",
    "version": 3
   },
   "file_extension": ".py",
   "mimetype": "text/x-python",
   "name": "python",
   "nbconvert_exporter": "python",
   "pygments_lexer": "ipython3",
   "version": "3.11.5"
  }
 },
 "nbformat": 4,
 "nbformat_minor": 5
}
